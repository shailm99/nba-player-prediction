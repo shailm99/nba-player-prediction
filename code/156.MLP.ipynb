{
 "cells": [
  {
   "cell_type": "code",
   "execution_count": 54,
   "id": "4cfc1e8b-77ad-4522-aac2-970b468f6425",
   "metadata": {},
   "outputs": [],
   "source": [
    "import pandas as pd\n",
    "import numpy as np"
   ]
  },
  {
   "cell_type": "code",
   "execution_count": 55,
   "id": "0313f0f8-fb24-4013-bac5-c9fd30ac158d",
   "metadata": {},
   "outputs": [],
   "source": [
    "data = pd.read_csv('merged_df.csv', index_col=0)"
   ]
  },
  {
   "cell_type": "code",
   "execution_count": 56,
   "id": "60568fee-8942-4f50-8d86-2c9f62869c6c",
   "metadata": {},
   "outputs": [],
   "source": [
    "#only players with more than 10 games\n",
    "data = data[data.games_played >= 10]"
   ]
  },
  {
   "cell_type": "code",
   "execution_count": 57,
   "id": "7b7675ef-d6cb-4fee-84b3-96a0a9007045",
   "metadata": {},
   "outputs": [],
   "source": [
    "#drop duplicates - corresponds to players that were traded mid season\n",
    "data.drop_duplicates(subset=['name', 'year_end'], inplace=True)"
   ]
  },
  {
   "cell_type": "code",
   "execution_count": 58,
   "id": "f0b56317-19ea-4110-a943-9a9bad2369e3",
   "metadata": {},
   "outputs": [],
   "source": [
    "#split into test and train data set\n",
    "\n",
    "train = data[data.season != 2022]\n",
    "test = data[data.season == 2022]"
   ]
  },
  {
   "cell_type": "code",
   "execution_count": 59,
   "id": "15cb7416-f3d3-4665-ac92-8fc29a68abd4",
   "metadata": {},
   "outputs": [],
   "source": [
    "#manually choose features to include in model \n",
    "\n",
    "features = ['age', 'minutes_played','player_efficiency_rating',\n",
    "       'true_shooting_percentage', 'three_point_attempt_rate',\n",
    "       'free_throw_attempt_rate', 'total_rebound_percentage',\n",
    "       'assist_percentage', 'steal_percentage', 'block_percentage',\n",
    "       'turnover_percentage', 'usage_percentage', 'win_shares_per_48_minutes',\n",
    "       'box_plus_minus']"
   ]
  },
  {
   "cell_type": "code",
   "execution_count": 60,
   "id": "6840df30-6e4f-4ebe-ae8d-6a9059047d27",
   "metadata": {},
   "outputs": [],
   "source": [
    "#store features\n",
    "\n",
    "X_train = train[features]\n",
    "X_test = test[features]"
   ]
  },
  {
   "cell_type": "markdown",
   "id": "2785443a-b2c9-44d8-830e-dcbc0dffdd29",
   "metadata": {},
   "source": [
    "**QUESTION**\n",
    "\n",
    "Saw your note about possible feature pinpointing or reduction\n",
    "\n",
    "I considered doing PCA but I do not think dimension reductionality is neccessary for computation purposes\n",
    "\n",
    "However, doing analysis on first x PCA components could be something to throw in just for credit to show we understand material\n",
    "\n",
    "So I am thinking we could commit to capturing x% of the variance of the data and however many components that corresponds to\n",
    "\n",
    "Or we could do PCA for some models and not for others.."
   ]
  },
  {
   "cell_type": "code",
   "execution_count": 61,
   "id": "a6e767bd-b9c6-406c-80c2-fbb22f097a64",
   "metadata": {},
   "outputs": [],
   "source": [
    "#standardize data - good for neural networks\n",
    "\n",
    "from sklearn.preprocessing import StandardScaler  \n",
    "scaler = StandardScaler()  \n",
    "\n",
    "# Fit only on training data\n",
    "\n",
    "scaler.fit(X_train)  \n",
    "X_train_standard = scaler.transform(X_train) \n",
    "\n",
    "# apply same transformation to test data\n",
    "\n",
    "X_test_standard = scaler.transform(X_test) "
   ]
  },
  {
   "cell_type": "code",
   "execution_count": 62,
   "id": "2ff56c9a-7f8c-4a47-ba15-c42196fed16a",
   "metadata": {},
   "outputs": [
    {
     "data": {
      "text/plain": [
       "{'alpha': array([1.e-01, 1.e-02, 1.e-03, 1.e-04, 1.e-05, 1.e-06])}"
      ]
     },
     "execution_count": 62,
     "metadata": {},
     "output_type": "execute_result"
    }
   ],
   "source": [
    "#set up grid search for alpha to tune hyperparameter\n",
    "\n",
    "from sklearn.neural_network import MLPRegressor\n",
    "\n",
    "parameters = {'alpha': 10.0 ** -np.arange(1, 7)}\n",
    "\n",
    "network = MLPRegressor(hidden_layer_sizes=(50,50) * 10,\n",
    "                       max_iter = 2000,activation = 'tanh',\n",
    "                       solver = 'sgd',learning_rate='adaptive',\n",
    "                       early_stopping = True)\n",
    "\n",
    "parameters"
   ]
  },
  {
   "cell_type": "code",
   "execution_count": 63,
   "id": "a5737c2e-51d5-4a09-990b-2a3e2bb6506f",
   "metadata": {},
   "outputs": [
    {
     "name": "stdout",
     "output_type": "stream",
     "text": [
      "Fitting 5 folds for each of 6 candidates, totalling 30 fits\n"
     ]
    },
    {
     "data": {
      "text/plain": [
       "{'alpha': 0.001}"
      ]
     },
     "execution_count": 63,
     "metadata": {},
     "output_type": "execute_result"
    }
   ],
   "source": [
    "#conduct grid search\n",
    "\n",
    "from sklearn.model_selection import GridSearchCV\n",
    "\n",
    "gs_neural = GridSearchCV(network,\n",
    "                      param_grid=parameters,\n",
    "                      scoring='neg_mean_absolute_error',\n",
    "                      cv=5, verbose=1)\n",
    "\n",
    "gs_neural.fit(X_train_standard, train['epm'])\n",
    "gs_neural.best_params_"
   ]
  },
  {
   "cell_type": "code",
   "execution_count": 64,
   "id": "5a3c8df5-ecbf-4d3b-acbb-514dc317d7fd",
   "metadata": {},
   "outputs": [],
   "source": [
    "#choose tuned parameter\n",
    "\n",
    "best_network = MLPRegressor(hidden_layer_sizes=(50,50) * 10,\n",
    "                       max_iter = 2000,activation = 'tanh',\n",
    "                       solver = 'sgd',learning_rate='adaptive',\n",
    "                       alpha = gs_neural.best_params_['alpha'],\n",
    "                       early_stopping = True)"
   ]
  },
  {
   "cell_type": "code",
   "execution_count": 65,
   "id": "58605f4b-3b87-48db-9eff-c4269520f608",
   "metadata": {},
   "outputs": [
    {
     "name": "stdout",
     "output_type": "stream",
     "text": [
      "[-1.50009743 -1.66622652 -1.48777262 -1.52434942 -1.49198023]\n",
      "1.534085243052143\n"
     ]
    }
   ],
   "source": [
    "#cross validation scores on training for model with chosen hyperparameters\n",
    "\n",
    "from sklearn.model_selection import cross_val_score\n",
    "\n",
    "cv = cross_val_score(best_network, X_train_standard, train['epm'], cv = 5, scoring='neg_mean_absolute_error')\n",
    "\n",
    "print(cv)\n",
    "print(-1 * np.mean(cv))"
   ]
  },
  {
   "cell_type": "code",
   "execution_count": 66,
   "id": "4de97b43-f0c6-45bc-99bf-5b0ff5b9e17b",
   "metadata": {},
   "outputs": [
    {
     "data": {
      "text/plain": [
       "MLPRegressor(activation='tanh', alpha=0.001, early_stopping=True,\n",
       "             hidden_layer_sizes=(50, 50, 50, 50, 50, 50, 50, 50, 50, 50, 50, 50,\n",
       "                                 50, 50, 50, 50, 50, 50, 50, 50),\n",
       "             learning_rate='adaptive', max_iter=2000, solver='sgd')"
      ]
     },
     "execution_count": 66,
     "metadata": {},
     "output_type": "execute_result"
    }
   ],
   "source": [
    "#calculate test error\n",
    "#refit neural network\n",
    "\n",
    "#QUESTION:\n",
    "#should I refit here? it uses SGD so slightly different parameters\n",
    "#Or should I use same model as I used in CV\n",
    "#If i should use same model as CV caluclation, how do I do it?\n",
    "\n",
    "best_network.fit(X_train_standard, train['epm'])"
   ]
  },
  {
   "cell_type": "code",
   "execution_count": 67,
   "id": "c89c5974-7e55-43fb-a3e0-433ba2c2b6c5",
   "metadata": {},
   "outputs": [
    {
     "data": {
      "text/plain": [
       "1.6826633532130006"
      ]
     },
     "execution_count": 67,
     "metadata": {},
     "output_type": "execute_result"
    }
   ],
   "source": [
    "predictions = best_network.predict(X_test_standard)\n",
    "actual = test['epm']\n",
    "\n",
    "MAE = sum(abs((predictions - actual))) / len(actual)\n",
    "\n",
    "MAE"
   ]
  },
  {
   "cell_type": "code",
   "execution_count": 128,
   "id": "fded2e0d-f179-4260-94da-b30d7c459176",
   "metadata": {},
   "outputs": [],
   "source": [
    "this_year = pd.read_csv('2023predictions.csv', index_col=0)\n",
    "\n",
    "this_year = this_year[this_year.games_played >= 10]\n",
    "\n",
    "this_year_selected = this_year[features]\n",
    "\n",
    "this_year_standard = scaler.transform(this_year_selected) "
   ]
  },
  {
   "cell_type": "code",
   "execution_count": 129,
   "id": "1e56445b-1124-4b90-b9c1-dd3ab729f09f",
   "metadata": {},
   "outputs": [],
   "source": [
    "predictions_this_year = best_network.predict(this_year_standard)"
   ]
  },
  {
   "cell_type": "code",
   "execution_count": 136,
   "id": "84a5e024-cf98-4bd9-bfda-1c0b748a4ccb",
   "metadata": {},
   "outputs": [],
   "source": [
    "results = pd.DataFrame(predictions_this_year, columns = ['NN_prediction'])"
   ]
  },
  {
   "cell_type": "code",
   "execution_count": 142,
   "id": "24d4adc1-49b6-4533-bc6b-bf2846111c32",
   "metadata": {},
   "outputs": [],
   "source": [
    "results['name'] = this_year['name'].values.tolist()"
   ]
  },
  {
   "cell_type": "code",
   "execution_count": 145,
   "id": "729d5649-e4c3-4968-987f-25e687bd7fcf",
   "metadata": {},
   "outputs": [
    {
     "data": {
      "text/html": [
       "<div>\n",
       "<style scoped>\n",
       "    .dataframe tbody tr th:only-of-type {\n",
       "        vertical-align: middle;\n",
       "    }\n",
       "\n",
       "    .dataframe tbody tr th {\n",
       "        vertical-align: top;\n",
       "    }\n",
       "\n",
       "    .dataframe thead th {\n",
       "        text-align: right;\n",
       "    }\n",
       "</style>\n",
       "<table border=\"1\" class=\"dataframe\">\n",
       "  <thead>\n",
       "    <tr style=\"text-align: right;\">\n",
       "      <th></th>\n",
       "      <th>NN_prediction</th>\n",
       "      <th>name</th>\n",
       "    </tr>\n",
       "  </thead>\n",
       "  <tbody>\n",
       "    <tr>\n",
       "      <th>12</th>\n",
       "      <td>5.968988</td>\n",
       "      <td>Giannis Antetokounmpo</td>\n",
       "    </tr>\n",
       "    <tr>\n",
       "      <th>153</th>\n",
       "      <td>5.900657</td>\n",
       "      <td>Joel Embiid</td>\n",
       "    </tr>\n",
       "    <tr>\n",
       "      <th>272</th>\n",
       "      <td>5.488291</td>\n",
       "      <td>Nikola Jokić</td>\n",
       "    </tr>\n",
       "    <tr>\n",
       "      <th>410</th>\n",
       "      <td>5.268911</td>\n",
       "      <td>Kristaps Porziņģis</td>\n",
       "    </tr>\n",
       "    <tr>\n",
       "      <th>495</th>\n",
       "      <td>5.213865</td>\n",
       "      <td>Karl-Anthony Towns</td>\n",
       "    </tr>\n",
       "    <tr>\n",
       "      <th>148</th>\n",
       "      <td>4.649140</td>\n",
       "      <td>Kevin Durant</td>\n",
       "    </tr>\n",
       "    <tr>\n",
       "      <th>261</th>\n",
       "      <td>4.175263</td>\n",
       "      <td>LeBron James</td>\n",
       "    </tr>\n",
       "    <tr>\n",
       "      <th>86</th>\n",
       "      <td>4.044870</td>\n",
       "      <td>Jimmy Butler</td>\n",
       "    </tr>\n",
       "    <tr>\n",
       "      <th>137</th>\n",
       "      <td>3.755698</td>\n",
       "      <td>Luka Dončić</td>\n",
       "    </tr>\n",
       "    <tr>\n",
       "      <th>183</th>\n",
       "      <td>3.681685</td>\n",
       "      <td>Rudy Gobert</td>\n",
       "    </tr>\n",
       "    <tr>\n",
       "      <th>357</th>\n",
       "      <td>3.650635</td>\n",
       "      <td>Ja Morant</td>\n",
       "    </tr>\n",
       "    <tr>\n",
       "      <th>125</th>\n",
       "      <td>3.454552</td>\n",
       "      <td>Anthony Davis</td>\n",
       "    </tr>\n",
       "    <tr>\n",
       "      <th>409</th>\n",
       "      <td>3.079797</td>\n",
       "      <td>Kristaps Porziņģis</td>\n",
       "    </tr>\n",
       "    <tr>\n",
       "      <th>124</th>\n",
       "      <td>3.043806</td>\n",
       "      <td>Stephen Curry</td>\n",
       "    </tr>\n",
       "    <tr>\n",
       "      <th>8</th>\n",
       "      <td>2.910911</td>\n",
       "      <td>Jarrett Allen</td>\n",
       "    </tr>\n",
       "    <tr>\n",
       "      <th>352</th>\n",
       "      <td>2.834688</td>\n",
       "      <td>Donovan Mitchell</td>\n",
       "    </tr>\n",
       "    <tr>\n",
       "      <th>2</th>\n",
       "      <td>2.768328</td>\n",
       "      <td>Bam Adebayo</td>\n",
       "    </tr>\n",
       "    <tr>\n",
       "      <th>476</th>\n",
       "      <td>2.738132</td>\n",
       "      <td>Jayson Tatum</td>\n",
       "    </tr>\n",
       "    <tr>\n",
       "      <th>543</th>\n",
       "      <td>2.726777</td>\n",
       "      <td>Trae Young</td>\n",
       "    </tr>\n",
       "    <tr>\n",
       "      <th>502</th>\n",
       "      <td>2.683251</td>\n",
       "      <td>Fred VanVleet</td>\n",
       "    </tr>\n",
       "  </tbody>\n",
       "</table>\n",
       "</div>"
      ],
      "text/plain": [
       "     NN_prediction                   name\n",
       "12        5.968988  Giannis Antetokounmpo\n",
       "153       5.900657            Joel Embiid\n",
       "272       5.488291           Nikola Jokić\n",
       "410       5.268911     Kristaps Porziņģis\n",
       "495       5.213865     Karl-Anthony Towns\n",
       "148       4.649140           Kevin Durant\n",
       "261       4.175263           LeBron James\n",
       "86        4.044870           Jimmy Butler\n",
       "137       3.755698            Luka Dončić\n",
       "183       3.681685            Rudy Gobert\n",
       "357       3.650635              Ja Morant\n",
       "125       3.454552          Anthony Davis\n",
       "409       3.079797     Kristaps Porziņģis\n",
       "124       3.043806          Stephen Curry\n",
       "8         2.910911          Jarrett Allen\n",
       "352       2.834688       Donovan Mitchell\n",
       "2         2.768328            Bam Adebayo\n",
       "476       2.738132           Jayson Tatum\n",
       "543       2.726777             Trae Young\n",
       "502       2.683251          Fred VanVleet"
      ]
     },
     "execution_count": 145,
     "metadata": {},
     "output_type": "execute_result"
    }
   ],
   "source": [
    "results.sort_values(by = 'NN_prediction', ascending = False).head(20)"
   ]
  },
  {
   "cell_type": "code",
   "execution_count": 132,
   "id": "07d1e169-200a-4084-9dee-b95c8175275d",
   "metadata": {},
   "outputs": [],
   "source": [
    "names.insert(1, \"epm\", results)"
   ]
  },
  {
   "cell_type": "code",
   "execution_count": 133,
   "id": "272c6ef6-d5b5-4475-af33-496e854eb233",
   "metadata": {},
   "outputs": [
    {
     "data": {
      "text/html": [
       "<div>\n",
       "<style scoped>\n",
       "    .dataframe tbody tr th:only-of-type {\n",
       "        vertical-align: middle;\n",
       "    }\n",
       "\n",
       "    .dataframe tbody tr th {\n",
       "        vertical-align: top;\n",
       "    }\n",
       "\n",
       "    .dataframe thead th {\n",
       "        text-align: right;\n",
       "    }\n",
       "</style>\n",
       "<table border=\"1\" class=\"dataframe\">\n",
       "  <thead>\n",
       "    <tr style=\"text-align: right;\">\n",
       "      <th></th>\n",
       "      <th>name</th>\n",
       "      <th>epm</th>\n",
       "    </tr>\n",
       "  </thead>\n",
       "  <tbody>\n",
       "    <tr>\n",
       "      <th>0</th>\n",
       "      <td>Precious Achiuwa</td>\n",
       "      <td>-1.536976</td>\n",
       "    </tr>\n",
       "    <tr>\n",
       "      <th>1</th>\n",
       "      <td>Steven Adams</td>\n",
       "      <td>0.030973</td>\n",
       "    </tr>\n",
       "    <tr>\n",
       "      <th>2</th>\n",
       "      <td>Bam Adebayo</td>\n",
       "      <td>2.768328</td>\n",
       "    </tr>\n",
       "    <tr>\n",
       "      <th>3</th>\n",
       "      <td>Santi Aldama</td>\n",
       "      <td>-2.665683</td>\n",
       "    </tr>\n",
       "    <tr>\n",
       "      <th>4</th>\n",
       "      <td>LaMarcus Aldridge</td>\n",
       "      <td>-0.614153</td>\n",
       "    </tr>\n",
       "    <tr>\n",
       "      <th>...</th>\n",
       "      <td>...</td>\n",
       "      <td>...</td>\n",
       "    </tr>\n",
       "    <tr>\n",
       "      <th>542</th>\n",
       "      <td>Thaddeus Young</td>\n",
       "      <td>-0.698574</td>\n",
       "    </tr>\n",
       "    <tr>\n",
       "      <th>543</th>\n",
       "      <td>Trae Young</td>\n",
       "      <td>2.726777</td>\n",
       "    </tr>\n",
       "    <tr>\n",
       "      <th>544</th>\n",
       "      <td>Omer Yurtseven</td>\n",
       "      <td>-0.505527</td>\n",
       "    </tr>\n",
       "    <tr>\n",
       "      <th>545</th>\n",
       "      <td>Cody Zeller</td>\n",
       "      <td>-1.849830</td>\n",
       "    </tr>\n",
       "    <tr>\n",
       "      <th>546</th>\n",
       "      <td>Ivica Zubac</td>\n",
       "      <td>1.843982</td>\n",
       "    </tr>\n",
       "  </tbody>\n",
       "</table>\n",
       "<p>547 rows × 2 columns</p>\n",
       "</div>"
      ],
      "text/plain": [
       "                  name       epm\n",
       "0     Precious Achiuwa -1.536976\n",
       "1         Steven Adams  0.030973\n",
       "2          Bam Adebayo  2.768328\n",
       "3         Santi Aldama -2.665683\n",
       "4    LaMarcus Aldridge -0.614153\n",
       "..                 ...       ...\n",
       "542     Thaddeus Young -0.698574\n",
       "543         Trae Young  2.726777\n",
       "544     Omer Yurtseven -0.505527\n",
       "545        Cody Zeller -1.849830\n",
       "546        Ivica Zubac  1.843982\n",
       "\n",
       "[547 rows x 2 columns]"
      ]
     },
     "execution_count": 133,
     "metadata": {},
     "output_type": "execute_result"
    }
   ],
   "source": [
    "names.reset_index(drop = True)"
   ]
  },
  {
   "cell_type": "code",
   "execution_count": null,
   "id": "d18a0e45-83ab-403f-83a3-118752fb3528",
   "metadata": {},
   "outputs": [],
   "source": []
  }
 ],
 "metadata": {
  "kernelspec": {
   "display_name": "Python 3 (ipykernel)",
   "language": "python",
   "name": "python3"
  },
  "language_info": {
   "codemirror_mode": {
    "name": "ipython",
    "version": 3
   },
   "file_extension": ".py",
   "mimetype": "text/x-python",
   "name": "python",
   "nbconvert_exporter": "python",
   "pygments_lexer": "ipython3",
   "version": "3.9.7"
  }
 },
 "nbformat": 4,
 "nbformat_minor": 5
}
